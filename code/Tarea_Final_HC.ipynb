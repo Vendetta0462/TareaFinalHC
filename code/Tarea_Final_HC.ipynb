{
 "cells": [
  {
   "cell_type": "markdown",
   "id": "ee697510-6ca4-444c-9dac-a01125c8f067",
   "metadata": {
    "tags": []
   },
   "source": [
    "# Tarea Final Herramientas Computacionales\n",
    "---\n",
    "***Nicolas Mantilla - 2210707***  \n",
    "***Sofía Cárdenas - 2201381***  \n",
    "***Sharith Pinzón - 2210709***"
   ]
  },
  {
   "cell_type": "code",
   "execution_count": 2,
   "id": "967f2115-541b-46b5-8b63-ac1c2e07a17e",
   "metadata": {},
   "outputs": [],
   "source": [
    "#Importamos las librerías necesiarias\n",
    "import pandas as pd\n",
    "import numpy as np\n",
    "import matplotlib.pyplot as plt"
   ]
  },
  {
   "cell_type": "markdown",
   "id": "0b3766c4-57c0-45fb-854c-6c8dd7b10674",
   "metadata": {},
   "source": [
    "## 1. Lectura de archivos"
   ]
  },
  {
   "cell_type": "code",
   "execution_count": 3,
   "id": "6a302bc2-d3b1-4101-a8a3-532e77573ecb",
   "metadata": {},
   "outputs": [],
   "source": [
    "data_active = pd.read_csv(\"../data/Global_active_power.csv\",delimiter=\",\",header=0)\n",
    "data_intensity = pd.read_csv(\"../data/Global_intensity.csv\",delimiter=\",\",header=0)\n",
    "data_reactive = pd.read_csv(\"../data/Global_reactive_power.csv\",delimiter=\",\",header=0)\n",
    "data_voltage = pd.read_csv(\"../data/Voltage.csv\",delimiter=\",\",header=0)"
   ]
  },
  {
   "cell_type": "markdown",
   "id": "c8d3c0ed-6879-4329-a329-e188f8155132",
   "metadata": {},
   "source": [
    "## 2. Fusión de los cuatro archivos en uno solo"
   ]
  },
  {
   "cell_type": "code",
   "execution_count": 4,
   "id": "c86536e4-f19c-42b9-a0b8-196dc3f6a6eb",
   "metadata": {},
   "outputs": [
    {
     "data": {
      "text/html": [
       "<div>\n",
       "<style scoped>\n",
       "    .dataframe tbody tr th:only-of-type {\n",
       "        vertical-align: middle;\n",
       "    }\n",
       "\n",
       "    .dataframe tbody tr th {\n",
       "        vertical-align: top;\n",
       "    }\n",
       "\n",
       "    .dataframe thead th {\n",
       "        text-align: right;\n",
       "    }\n",
       "</style>\n",
       "<table border=\"1\" class=\"dataframe\">\n",
       "  <thead>\n",
       "    <tr style=\"text-align: right;\">\n",
       "      <th></th>\n",
       "      <th>Global_active_power</th>\n",
       "      <th>Global_reactive_power</th>\n",
       "      <th>Global_intensity</th>\n",
       "      <th>Voltage</th>\n",
       "    </tr>\n",
       "    <tr>\n",
       "      <th>Datetime</th>\n",
       "      <th></th>\n",
       "      <th></th>\n",
       "      <th></th>\n",
       "      <th></th>\n",
       "    </tr>\n",
       "  </thead>\n",
       "  <tbody>\n",
       "    <tr>\n",
       "      <th>2010-01-01 00:00:00</th>\n",
       "      <td>1.790</td>\n",
       "      <td>0.236</td>\n",
       "      <td>7.4</td>\n",
       "      <td>240.65</td>\n",
       "    </tr>\n",
       "    <tr>\n",
       "      <th>2010-01-01 00:01:00</th>\n",
       "      <td>1.780</td>\n",
       "      <td>0.234</td>\n",
       "      <td>7.4</td>\n",
       "      <td>240.07</td>\n",
       "    </tr>\n",
       "    <tr>\n",
       "      <th>2010-01-01 00:02:00</th>\n",
       "      <td>1.780</td>\n",
       "      <td>0.234</td>\n",
       "      <td>7.4</td>\n",
       "      <td>240.15</td>\n",
       "    </tr>\n",
       "    <tr>\n",
       "      <th>2010-01-01 00:03:00</th>\n",
       "      <td>1.746</td>\n",
       "      <td>0.186</td>\n",
       "      <td>7.2</td>\n",
       "      <td>240.26</td>\n",
       "    </tr>\n",
       "    <tr>\n",
       "      <th>2010-01-01 00:04:00</th>\n",
       "      <td>1.686</td>\n",
       "      <td>0.102</td>\n",
       "      <td>7.0</td>\n",
       "      <td>240.12</td>\n",
       "    </tr>\n",
       "    <tr>\n",
       "      <th>...</th>\n",
       "      <td>...</td>\n",
       "      <td>...</td>\n",
       "      <td>...</td>\n",
       "      <td>...</td>\n",
       "    </tr>\n",
       "    <tr>\n",
       "      <th>2010-11-26 20:58:00</th>\n",
       "      <td>0.946</td>\n",
       "      <td>0.000</td>\n",
       "      <td>4.0</td>\n",
       "      <td>240.43</td>\n",
       "    </tr>\n",
       "    <tr>\n",
       "      <th>2010-11-26 20:59:00</th>\n",
       "      <td>0.944</td>\n",
       "      <td>0.000</td>\n",
       "      <td>4.0</td>\n",
       "      <td>240.00</td>\n",
       "    </tr>\n",
       "    <tr>\n",
       "      <th>2010-11-26 21:00:00</th>\n",
       "      <td>0.938</td>\n",
       "      <td>0.000</td>\n",
       "      <td>3.8</td>\n",
       "      <td>239.82</td>\n",
       "    </tr>\n",
       "    <tr>\n",
       "      <th>2010-11-26 21:01:00</th>\n",
       "      <td>0.934</td>\n",
       "      <td>0.000</td>\n",
       "      <td>3.8</td>\n",
       "      <td>239.70</td>\n",
       "    </tr>\n",
       "    <tr>\n",
       "      <th>2010-11-26 21:02:00</th>\n",
       "      <td>0.932</td>\n",
       "      <td>0.000</td>\n",
       "      <td>3.8</td>\n",
       "      <td>239.55</td>\n",
       "    </tr>\n",
       "  </tbody>\n",
       "</table>\n",
       "<p>457395 rows × 4 columns</p>\n",
       "</div>"
      ],
      "text/plain": [
       "                     Global_active_power  Global_reactive_power  \\\n",
       "Datetime                                                          \n",
       "2010-01-01 00:00:00                1.790                  0.236   \n",
       "2010-01-01 00:01:00                1.780                  0.234   \n",
       "2010-01-01 00:02:00                1.780                  0.234   \n",
       "2010-01-01 00:03:00                1.746                  0.186   \n",
       "2010-01-01 00:04:00                1.686                  0.102   \n",
       "...                                  ...                    ...   \n",
       "2010-11-26 20:58:00                0.946                  0.000   \n",
       "2010-11-26 20:59:00                0.944                  0.000   \n",
       "2010-11-26 21:00:00                0.938                  0.000   \n",
       "2010-11-26 21:01:00                0.934                  0.000   \n",
       "2010-11-26 21:02:00                0.932                  0.000   \n",
       "\n",
       "                     Global_intensity  Voltage  \n",
       "Datetime                                        \n",
       "2010-01-01 00:00:00               7.4   240.65  \n",
       "2010-01-01 00:01:00               7.4   240.07  \n",
       "2010-01-01 00:02:00               7.4   240.15  \n",
       "2010-01-01 00:03:00               7.2   240.26  \n",
       "2010-01-01 00:04:00               7.0   240.12  \n",
       "...                               ...      ...  \n",
       "2010-11-26 20:58:00               4.0   240.43  \n",
       "2010-11-26 20:59:00               4.0   240.00  \n",
       "2010-11-26 21:00:00               3.8   239.82  \n",
       "2010-11-26 21:01:00               3.8   239.70  \n",
       "2010-11-26 21:02:00               3.8   239.55  \n",
       "\n",
       "[457395 rows x 4 columns]"
      ]
     },
     "execution_count": 4,
     "metadata": {},
     "output_type": "execute_result"
    }
   ],
   "source": [
    "data = pd.merge(pd.merge(data_active, data_reactive, on=[\"Datetime\"]),\n",
    "                pd.merge(data_intensity, data_voltage, on=[\"Datetime\"]),\n",
    "                on=[\"Datetime\"])\n",
    "data[\"Datetime\"] = pd.to_datetime(data[\"Datetime\"], dayfirst=True)\n",
    "data = data.set_index([\"Datetime\"])\n",
    "data"
   ]
  },
  {
   "cell_type": "markdown",
   "id": "3f8ded38-c870-4eb5-aaae-a7ab5b4f27cb",
   "metadata": {},
   "source": [
    "## 3. *Resample* de los datos"
   ]
  },
  {
   "cell_type": "code",
   "execution_count": 92,
   "id": "a10a1832-623f-455d-994b-318e86899266",
   "metadata": {},
   "outputs": [
    {
     "name": "stdout",
     "output_type": "stream",
     "text": [
      "nan\n"
     ]
    }
   ],
   "source": [
    "# data_diario = data.resample(\"D\").mean()\n",
    "# data_mensual = data.resample(\"M\").mean()\n",
    "print(data_diario[\"Global_active_power\"][11])"
   ]
  },
  {
   "cell_type": "markdown",
   "id": "af1ac4b3-7e3a-4884-82c6-ceba27819a85",
   "metadata": {},
   "source": [
    "## 4. Regresiones lineales"
   ]
  },
  {
   "cell_type": "code",
   "execution_count": 51,
   "id": "353d9747-40eb-43f5-a784-7d45eb11aceb",
   "metadata": {},
   "outputs": [],
   "source": [
    "from scipy.optimize import curve_fit as cf\n",
    "\n",
    "def rel1(x, a, b):\n",
    "    return a*x+b\n",
    "\n",
    "def rel3(x, a, b, c):\n",
    "    return a*x[0]+b*x[1]+c\n",
    "\n",
    "def fit(dataset, tittle):\n",
    "    xdata = (dataset[\"Global_intensity\"], dataset[\"Voltage\"])\n",
    "    ydata = dataset[\"Global_active_power\"]\n",
    "    label = (\"Global active power\", \"Global intensity\", \"Voltage\")\n",
    "    Error = np.array([])\n",
    "    for i in [1,2]:\n",
    "        opt, cov = cf(rel1, xdata[i-1], ydata)\n",
    "        cov = np.around(np.sqrt(np.diag(cov)), 3)\n",
    "        x = np.linspace(xdata[i-1].min(), xdata[i-1].max(), 100)\n",
    "        Error = np.append(Error, np.sqrt(np.mean((ydata-rel1(xdata[i-1], *opt))**2)))\n",
    "        plt.figure(figsize=(8,6))\n",
    "        plt.plot(x, rel1(x, *opt), 'r-', label=r'fit: {}$\\pm${}'.format(np.around(tuple(opt), 3),tuple(cov)))\n",
    "        plt.scatter(xdata[i-1], ydata, label=\"Original data\")\n",
    "        plt.xlabel(label[i])\n",
    "        plt.ylabel(label[0])\n",
    "        plt.title(tittle)\n",
    "        plt.legend()\n",
    "        plt.show()\n",
    "        print(\"Los coeficientes son : {}\".format(opt))\n",
    "        print(\"El sigma de los coeficientes son : {}\".format(cov))\n",
    "        print(\"Error on fit is =\", Error[i-1])\n",
    "    opt, cov = cf(rel3, [xdata[0], xdata[1]], ydata)\n",
    "    cov = np.around(np.sqrt(np.diag(cov)), 3)\n",
    "    x = (np.linspace(xdata[0].min(), xdata[0].max(), 100), np.linspace(xdata[1].min(), xdata[1].max(), 100))\n",
    "    Error = np.append(Error, np.sqrt(np.mean((ydata-rel3([xdata[0], xdata[1]], *opt))**2)))\n",
    "    plt.figure(figsize=(8,6))\n",
    "    plt.plot(x[0], rel3(x, *opt), 'r-', label=r'fit: {}$\\pm${}'.format(np.around(tuple(opt), 3),tuple(cov)))\n",
    "    plt.scatter(xdata[0], ydata, label=\"Original data\")\n",
    "    plt.ylabel(label[0])\n",
    "    plt.xlabel(label[1]+\" and \"+ label[2])\n",
    "    plt.title(tittle)\n",
    "    plt.legend()\n",
    "    plt.show()\n",
    "    print(\"Los coeficientes son : {}\".format(opt))\n",
    "    print(\"El sigma de los coeficientes son : {}\".format(cov))\n",
    "    print(\"Error on fit is =\", Error[2])\n",
    "    return Error\n",
    "\n",
    "# def fit(func,xdata,ydata,labelx,labely):\n",
    "#     popt, pcov = curve_fit(func, xdata, ydata)\n",
    "#     pcov = np.sqrt(np.diag(pcov))\n",
    "#     plt.figure(figsize=(8,6))\n",
    "#     plt.plot(xdata, func(xdata, *popt), 'r-',label=r'fit: {}$\\pm${}'.format(tuple(popt),tuple(pcov)))\n",
    "#     plt.scatter(xdata,ydata,label=\"Original data\")\n",
    "#     plt.xlabel(labelx)\n",
    "#     plt.ylabel(labely)\n",
    "#     plt.legend()\n",
    "#     plt.show()\n",
    "#     print(\"Los coeficientes son : {}\".format(popt))\n",
    "#     print(\"El sigma de los coeficientes son : {}\".format(pcov))\n",
    "#     return\n",
    "\n",
    "# opt1, cov1 = cf(rel1, data[\"Global_intensity\"], data[\"Global_active_power\"])\n",
    "# opt2, cov2 = cf(rel1, data[\"Voltage\"], data[\"Global_active_power\"])\n",
    "# opt3, cov3 = cf(rel3, [data[\"Global_intensity\"], data[\"Voltage\"]], data[\"Global_active_power\"])"
   ]
  },
  {
   "cell_type": "code",
   "execution_count": 76,
   "id": "a6c68734-98ce-4b28-b3fa-85ac06ffc050",
   "metadata": {},
   "outputs": [
    {
     "ename": "ValueError",
     "evalue": "array must not contain infs or NaNs",
     "output_type": "error",
     "traceback": [
      "\u001b[1;31m---------------------------------------------------------------------------\u001b[0m",
      "\u001b[1;31mValueError\u001b[0m                                Traceback (most recent call last)",
      "\u001b[1;32m~\\AppData\\Local\\Temp/ipykernel_11984/3369729669.py\u001b[0m in \u001b[0;36m<module>\u001b[1;34m\u001b[0m\n\u001b[1;32m----> 1\u001b[1;33m \u001b[0mopt1\u001b[0m\u001b[1;33m,\u001b[0m \u001b[0mcov1\u001b[0m \u001b[1;33m=\u001b[0m \u001b[0mcf\u001b[0m\u001b[1;33m(\u001b[0m\u001b[0mrel1\u001b[0m\u001b[1;33m,\u001b[0m \u001b[0mdata_diario\u001b[0m\u001b[1;33m[\u001b[0m\u001b[1;34m\"Global_intensity\"\u001b[0m\u001b[1;33m]\u001b[0m\u001b[1;33m,\u001b[0m \u001b[0mdata_diario\u001b[0m\u001b[1;33m[\u001b[0m\u001b[1;34m\"Global_active_power\"\u001b[0m\u001b[1;33m]\u001b[0m\u001b[1;33m)\u001b[0m\u001b[1;33m\u001b[0m\u001b[1;33m\u001b[0m\u001b[0m\n\u001b[0m",
      "\u001b[1;32m~\\anaconda3\\lib\\site-packages\\scipy\\optimize\\minpack.py\u001b[0m in \u001b[0;36mcurve_fit\u001b[1;34m(f, xdata, ydata, p0, sigma, absolute_sigma, check_finite, bounds, method, jac, **kwargs)\u001b[0m\n\u001b[0;32m    733\u001b[0m     \u001b[1;31m# NaNs cannot be handled\u001b[0m\u001b[1;33m\u001b[0m\u001b[1;33m\u001b[0m\u001b[1;33m\u001b[0m\u001b[0m\n\u001b[0;32m    734\u001b[0m     \u001b[1;32mif\u001b[0m \u001b[0mcheck_finite\u001b[0m\u001b[1;33m:\u001b[0m\u001b[1;33m\u001b[0m\u001b[1;33m\u001b[0m\u001b[0m\n\u001b[1;32m--> 735\u001b[1;33m         \u001b[0mydata\u001b[0m \u001b[1;33m=\u001b[0m \u001b[0mnp\u001b[0m\u001b[1;33m.\u001b[0m\u001b[0masarray_chkfinite\u001b[0m\u001b[1;33m(\u001b[0m\u001b[0mydata\u001b[0m\u001b[1;33m,\u001b[0m \u001b[0mfloat\u001b[0m\u001b[1;33m)\u001b[0m\u001b[1;33m\u001b[0m\u001b[1;33m\u001b[0m\u001b[0m\n\u001b[0m\u001b[0;32m    736\u001b[0m     \u001b[1;32melse\u001b[0m\u001b[1;33m:\u001b[0m\u001b[1;33m\u001b[0m\u001b[1;33m\u001b[0m\u001b[0m\n\u001b[0;32m    737\u001b[0m         \u001b[0mydata\u001b[0m \u001b[1;33m=\u001b[0m \u001b[0mnp\u001b[0m\u001b[1;33m.\u001b[0m\u001b[0masarray\u001b[0m\u001b[1;33m(\u001b[0m\u001b[0mydata\u001b[0m\u001b[1;33m,\u001b[0m \u001b[0mfloat\u001b[0m\u001b[1;33m)\u001b[0m\u001b[1;33m\u001b[0m\u001b[1;33m\u001b[0m\u001b[0m\n",
      "\u001b[1;32m~\\anaconda3\\lib\\site-packages\\numpy\\lib\\function_base.py\u001b[0m in \u001b[0;36masarray_chkfinite\u001b[1;34m(a, dtype, order)\u001b[0m\n\u001b[0;32m    486\u001b[0m     \u001b[0ma\u001b[0m \u001b[1;33m=\u001b[0m \u001b[0masarray\u001b[0m\u001b[1;33m(\u001b[0m\u001b[0ma\u001b[0m\u001b[1;33m,\u001b[0m \u001b[0mdtype\u001b[0m\u001b[1;33m=\u001b[0m\u001b[0mdtype\u001b[0m\u001b[1;33m,\u001b[0m \u001b[0morder\u001b[0m\u001b[1;33m=\u001b[0m\u001b[0morder\u001b[0m\u001b[1;33m)\u001b[0m\u001b[1;33m\u001b[0m\u001b[1;33m\u001b[0m\u001b[0m\n\u001b[0;32m    487\u001b[0m     \u001b[1;32mif\u001b[0m \u001b[0ma\u001b[0m\u001b[1;33m.\u001b[0m\u001b[0mdtype\u001b[0m\u001b[1;33m.\u001b[0m\u001b[0mchar\u001b[0m \u001b[1;32min\u001b[0m \u001b[0mtypecodes\u001b[0m\u001b[1;33m[\u001b[0m\u001b[1;34m'AllFloat'\u001b[0m\u001b[1;33m]\u001b[0m \u001b[1;32mand\u001b[0m \u001b[1;32mnot\u001b[0m \u001b[0mnp\u001b[0m\u001b[1;33m.\u001b[0m\u001b[0misfinite\u001b[0m\u001b[1;33m(\u001b[0m\u001b[0ma\u001b[0m\u001b[1;33m)\u001b[0m\u001b[1;33m.\u001b[0m\u001b[0mall\u001b[0m\u001b[1;33m(\u001b[0m\u001b[1;33m)\u001b[0m\u001b[1;33m:\u001b[0m\u001b[1;33m\u001b[0m\u001b[1;33m\u001b[0m\u001b[0m\n\u001b[1;32m--> 488\u001b[1;33m         raise ValueError(\n\u001b[0m\u001b[0;32m    489\u001b[0m             \"array must not contain infs or NaNs\")\n\u001b[0;32m    490\u001b[0m     \u001b[1;32mreturn\u001b[0m \u001b[0ma\u001b[0m\u001b[1;33m\u001b[0m\u001b[1;33m\u001b[0m\u001b[0m\n",
      "\u001b[1;31mValueError\u001b[0m: array must not contain infs or NaNs"
     ]
    }
   ],
   "source": [
    "opt1, cov1 = cf(rel1, data_diario[\"Global_intensity\"], data_diario[\"Global_active_power\"])"
   ]
  },
  {
   "cell_type": "code",
   "execution_count": 52,
   "id": "470bd087-baef-4154-abb3-56c65c75e2a6",
   "metadata": {},
   "outputs": [
    {
     "data": {
      "image/png": "[encoded data removed]",
      "text/plain": [
       "<Figure size 576x432 with 1 Axes>"
      ]
     },
     "metadata": {
      "needs_background": "light"
     },
     "output_type": "display_data"
    },
    {
     "name": "stdout",
     "output_type": "stream",
     "text": [
      "Los coeficientes son : [ 0.23803257 -0.00501581]\n",
      "El sigma de los coeficientes son : [0. 0.]\n",
      "Error on fit is = 0.04945239004578629\n"
     ]
    },
    {
     "data": {
      "image/png": "[encoded data removed]",
      "text/plain": [
       "<Figure size 576x432 with 1 Axes>"
      ]
     },
     "metadata": {
      "needs_background": "light"
     },
     "output_type": "display_data"
    },
    {
     "name": "stdout",
     "output_type": "stream",
     "text": [
      "Los coeficientes son : [-0.13570432 33.83543485]\n",
      "El sigma de los coeficientes son : [0.001 0.184]\n",
      "Error on fit is = 0.8484264954280009\n"
     ]
    },
    {
     "data": {
      "image/png": "[encoded data removed]",
      "text/plain": [
       "<Figure size 576x432 with 1 Axes>"
      ]
     },
     "metadata": {
      "needs_background": "light"
     },
     "output_type": "display_data"
    },
    {
     "name": "stdout",
     "output_type": "stream",
     "text": [
      "Los coeficientes son : [ 0.23948799  0.00467722 -1.1411552 ]\n",
      "El sigma de los coeficientes son : [0.    0.    0.012]\n",
      "Error on fit is = 0.047960962069465554\n"
     ]
    },
    {
     "ename": "ValueError",
     "evalue": "array must not contain infs or NaNs",
     "output_type": "error",
     "traceback": [
      "\u001b[1;31m---------------------------------------------------------------------------\u001b[0m",
      "\u001b[1;31mValueError\u001b[0m                                Traceback (most recent call last)",
      "\u001b[1;32m~\\AppData\\Local\\Temp/ipykernel_11984/2320896604.py\u001b[0m in \u001b[0;36m<module>\u001b[1;34m\u001b[0m\n\u001b[0;32m      1\u001b[0m \u001b[0mError_original\u001b[0m \u001b[1;33m=\u001b[0m \u001b[0mfit\u001b[0m\u001b[1;33m(\u001b[0m\u001b[0mdata\u001b[0m\u001b[1;33m.\u001b[0m\u001b[0miloc\u001b[0m\u001b[1;33m[\u001b[0m\u001b[0mnp\u001b[0m\u001b[1;33m.\u001b[0m\u001b[0marange\u001b[0m\u001b[1;33m(\u001b[0m\u001b[1;36m0\u001b[0m\u001b[1;33m,\u001b[0m \u001b[0mdata\u001b[0m\u001b[1;33m.\u001b[0m\u001b[0mshape\u001b[0m\u001b[1;33m[\u001b[0m\u001b[1;36m0\u001b[0m\u001b[1;33m]\u001b[0m\u001b[1;33m,\u001b[0m \u001b[1;36m3\u001b[0m\u001b[1;33m)\u001b[0m\u001b[1;33m]\u001b[0m\u001b[1;33m,\u001b[0m \u001b[1;34m\"Data Original\"\u001b[0m\u001b[1;33m)\u001b[0m\u001b[1;33m\u001b[0m\u001b[1;33m\u001b[0m\u001b[0m\n\u001b[1;32m----> 2\u001b[1;33m \u001b[0mError_diario\u001b[0m \u001b[1;33m=\u001b[0m \u001b[0mfit\u001b[0m\u001b[1;33m(\u001b[0m\u001b[0mdata_diario\u001b[0m\u001b[1;33m,\u001b[0m \u001b[1;34m\"Data Diario\"\u001b[0m\u001b[1;33m)\u001b[0m\u001b[1;33m\u001b[0m\u001b[1;33m\u001b[0m\u001b[0m\n\u001b[0m\u001b[0;32m      3\u001b[0m \u001b[0mError_mensual\u001b[0m \u001b[1;33m=\u001b[0m \u001b[0mfit\u001b[0m\u001b[1;33m(\u001b[0m\u001b[0mdata_mensual\u001b[0m\u001b[1;33m,\u001b[0m \u001b[1;34m\"Data Mensual\"\u001b[0m\u001b[1;33m)\u001b[0m\u001b[1;33m\u001b[0m\u001b[1;33m\u001b[0m\u001b[0m\n",
      "\u001b[1;32m~\\AppData\\Local\\Temp/ipykernel_11984/1378171911.py\u001b[0m in \u001b[0;36mfit\u001b[1;34m(dataset, tittle)\u001b[0m\n\u001b[0;32m     13\u001b[0m     \u001b[0mError\u001b[0m \u001b[1;33m=\u001b[0m \u001b[0mnp\u001b[0m\u001b[1;33m.\u001b[0m\u001b[0marray\u001b[0m\u001b[1;33m(\u001b[0m\u001b[1;33m[\u001b[0m\u001b[1;33m]\u001b[0m\u001b[1;33m)\u001b[0m\u001b[1;33m\u001b[0m\u001b[1;33m\u001b[0m\u001b[0m\n\u001b[0;32m     14\u001b[0m     \u001b[1;32mfor\u001b[0m \u001b[0mi\u001b[0m \u001b[1;32min\u001b[0m \u001b[1;33m[\u001b[0m\u001b[1;36m1\u001b[0m\u001b[1;33m,\u001b[0m\u001b[1;36m2\u001b[0m\u001b[1;33m]\u001b[0m\u001b[1;33m:\u001b[0m\u001b[1;33m\u001b[0m\u001b[1;33m\u001b[0m\u001b[0m\n\u001b[1;32m---> 15\u001b[1;33m         \u001b[0mopt\u001b[0m\u001b[1;33m,\u001b[0m \u001b[0mcov\u001b[0m \u001b[1;33m=\u001b[0m \u001b[0mcf\u001b[0m\u001b[1;33m(\u001b[0m\u001b[0mrel1\u001b[0m\u001b[1;33m,\u001b[0m \u001b[0mxdata\u001b[0m\u001b[1;33m[\u001b[0m\u001b[0mi\u001b[0m\u001b[1;33m-\u001b[0m\u001b[1;36m1\u001b[0m\u001b[1;33m]\u001b[0m\u001b[1;33m,\u001b[0m \u001b[0mydata\u001b[0m\u001b[1;33m)\u001b[0m\u001b[1;33m\u001b[0m\u001b[1;33m\u001b[0m\u001b[0m\n\u001b[0m\u001b[0;32m     16\u001b[0m         \u001b[0mcov\u001b[0m \u001b[1;33m=\u001b[0m \u001b[0mnp\u001b[0m\u001b[1;33m.\u001b[0m\u001b[0maround\u001b[0m\u001b[1;33m(\u001b[0m\u001b[0mnp\u001b[0m\u001b[1;33m.\u001b[0m\u001b[0msqrt\u001b[0m\u001b[1;33m(\u001b[0m\u001b[0mnp\u001b[0m\u001b[1;33m.\u001b[0m\u001b[0mdiag\u001b[0m\u001b[1;33m(\u001b[0m\u001b[0mcov\u001b[0m\u001b[1;33m)\u001b[0m\u001b[1;33m)\u001b[0m\u001b[1;33m,\u001b[0m \u001b[1;36m3\u001b[0m\u001b[1;33m)\u001b[0m\u001b[1;33m\u001b[0m\u001b[1;33m\u001b[0m\u001b[0m\n\u001b[0;32m     17\u001b[0m         \u001b[0mx\u001b[0m \u001b[1;33m=\u001b[0m \u001b[0mnp\u001b[0m\u001b[1;33m.\u001b[0m\u001b[0mlinspace\u001b[0m\u001b[1;33m(\u001b[0m\u001b[0mxdata\u001b[0m\u001b[1;33m[\u001b[0m\u001b[0mi\u001b[0m\u001b[1;33m-\u001b[0m\u001b[1;36m1\u001b[0m\u001b[1;33m]\u001b[0m\u001b[1;33m.\u001b[0m\u001b[0mmin\u001b[0m\u001b[1;33m(\u001b[0m\u001b[1;33m)\u001b[0m\u001b[1;33m,\u001b[0m \u001b[0mxdata\u001b[0m\u001b[1;33m[\u001b[0m\u001b[0mi\u001b[0m\u001b[1;33m-\u001b[0m\u001b[1;36m1\u001b[0m\u001b[1;33m]\u001b[0m\u001b[1;33m.\u001b[0m\u001b[0mmax\u001b[0m\u001b[1;33m(\u001b[0m\u001b[1;33m)\u001b[0m\u001b[1;33m,\u001b[0m \u001b[1;36m100\u001b[0m\u001b[1;33m)\u001b[0m\u001b[1;33m\u001b[0m\u001b[1;33m\u001b[0m\u001b[0m\n",
      "\u001b[1;32m~\\anaconda3\\lib\\site-packages\\scipy\\optimize\\minpack.py\u001b[0m in \u001b[0;36mcurve_fit\u001b[1;34m(f, xdata, ydata, p0, sigma, absolute_sigma, check_finite, bounds, method, jac, **kwargs)\u001b[0m\n\u001b[0;32m    733\u001b[0m     \u001b[1;31m# NaNs cannot be handled\u001b[0m\u001b[1;33m\u001b[0m\u001b[1;33m\u001b[0m\u001b[1;33m\u001b[0m\u001b[0m\n\u001b[0;32m    734\u001b[0m     \u001b[1;32mif\u001b[0m \u001b[0mcheck_finite\u001b[0m\u001b[1;33m:\u001b[0m\u001b[1;33m\u001b[0m\u001b[1;33m\u001b[0m\u001b[0m\n\u001b[1;32m--> 735\u001b[1;33m         \u001b[0mydata\u001b[0m \u001b[1;33m=\u001b[0m \u001b[0mnp\u001b[0m\u001b[1;33m.\u001b[0m\u001b[0masarray_chkfinite\u001b[0m\u001b[1;33m(\u001b[0m\u001b[0mydata\u001b[0m\u001b[1;33m,\u001b[0m \u001b[0mfloat\u001b[0m\u001b[1;33m)\u001b[0m\u001b[1;33m\u001b[0m\u001b[1;33m\u001b[0m\u001b[0m\n\u001b[0m\u001b[0;32m    736\u001b[0m     \u001b[1;32melse\u001b[0m\u001b[1;33m:\u001b[0m\u001b[1;33m\u001b[0m\u001b[1;33m\u001b[0m\u001b[0m\n\u001b[0;32m    737\u001b[0m         \u001b[0mydata\u001b[0m \u001b[1;33m=\u001b[0m \u001b[0mnp\u001b[0m\u001b[1;33m.\u001b[0m\u001b[0masarray\u001b[0m\u001b[1;33m(\u001b[0m\u001b[0mydata\u001b[0m\u001b[1;33m,\u001b[0m \u001b[0mfloat\u001b[0m\u001b[1;33m)\u001b[0m\u001b[1;33m\u001b[0m\u001b[1;33m\u001b[0m\u001b[0m\n",
      "\u001b[1;32m~\\anaconda3\\lib\\site-packages\\numpy\\lib\\function_base.py\u001b[0m in \u001b[0;36masarray_chkfinite\u001b[1;34m(a, dtype, order)\u001b[0m\n\u001b[0;32m    486\u001b[0m     \u001b[0ma\u001b[0m \u001b[1;33m=\u001b[0m \u001b[0masarray\u001b[0m\u001b[1;33m(\u001b[0m\u001b[0ma\u001b[0m\u001b[1;33m,\u001b[0m \u001b[0mdtype\u001b[0m\u001b[1;33m=\u001b[0m\u001b[0mdtype\u001b[0m\u001b[1;33m,\u001b[0m \u001b[0morder\u001b[0m\u001b[1;33m=\u001b[0m\u001b[0morder\u001b[0m\u001b[1;33m)\u001b[0m\u001b[1;33m\u001b[0m\u001b[1;33m\u001b[0m\u001b[0m\n\u001b[0;32m    487\u001b[0m     \u001b[1;32mif\u001b[0m \u001b[0ma\u001b[0m\u001b[1;33m.\u001b[0m\u001b[0mdtype\u001b[0m\u001b[1;33m.\u001b[0m\u001b[0mchar\u001b[0m \u001b[1;32min\u001b[0m \u001b[0mtypecodes\u001b[0m\u001b[1;33m[\u001b[0m\u001b[1;34m'AllFloat'\u001b[0m\u001b[1;33m]\u001b[0m \u001b[1;32mand\u001b[0m \u001b[1;32mnot\u001b[0m \u001b[0mnp\u001b[0m\u001b[1;33m.\u001b[0m\u001b[0misfinite\u001b[0m\u001b[1;33m(\u001b[0m\u001b[0ma\u001b[0m\u001b[1;33m)\u001b[0m\u001b[1;33m.\u001b[0m\u001b[0mall\u001b[0m\u001b[1;33m(\u001b[0m\u001b[1;33m)\u001b[0m\u001b[1;33m:\u001b[0m\u001b[1;33m\u001b[0m\u001b[1;33m\u001b[0m\u001b[0m\n\u001b[1;32m--> 488\u001b[1;33m         raise ValueError(\n\u001b[0m\u001b[0;32m    489\u001b[0m             \"array must not contain infs or NaNs\")\n\u001b[0;32m    490\u001b[0m     \u001b[1;32mreturn\u001b[0m \u001b[0ma\u001b[0m\u001b[1;33m\u001b[0m\u001b[1;33m\u001b[0m\u001b[0m\n",
      "\u001b[1;31mValueError\u001b[0m: array must not contain infs or NaNs"
     ]
    }
   ],
   "source": [
    "Error_original = fit(data.iloc[np.arange(0, data.shape[0], 3)], \"Data Original\")\n",
    "Error_diario = fit(data_diario, \"Data Diario\")\n",
    "Error_mensual = fit(data_mensual, \"Data Mensual\")"
   ]
  },
  {
   "cell_type": "code",
   "execution_count": 75,
   "id": "115fbba7-3129-46e3-b23c-48512f5786d4",
   "metadata": {},
   "outputs": [
    {
     "data": {
      "text/html": [
       "<div>\n",
       "<style scoped>\n",
       "    .dataframe tbody tr th:only-of-type {\n",
       "        vertical-align: middle;\n",
       "    }\n",
       "\n",
       "    .dataframe tbody tr th {\n",
       "        vertical-align: top;\n",
       "    }\n",
       "\n",
       "    .dataframe thead th {\n",
       "        text-align: right;\n",
       "    }\n",
       "</style>\n",
       "<table border=\"1\" class=\"dataframe\">\n",
       "  <thead>\n",
       "    <tr style=\"text-align: right;\">\n",
       "      <th></th>\n",
       "      <th>Global_active_power</th>\n",
       "      <th>Global_reactive_power</th>\n",
       "      <th>Global_intensity</th>\n",
       "      <th>Voltage</th>\n",
       "    </tr>\n",
       "    <tr>\n",
       "      <th>Datetime</th>\n",
       "      <th></th>\n",
       "      <th></th>\n",
       "      <th></th>\n",
       "      <th></th>\n",
       "    </tr>\n",
       "  </thead>\n",
       "  <tbody>\n",
       "    <tr>\n",
       "      <th>2010-01-31</th>\n",
       "      <td>1.300640</td>\n",
       "      <td>0.125182</td>\n",
       "      <td>5.430332</td>\n",
       "      <td>242.338522</td>\n",
       "    </tr>\n",
       "    <tr>\n",
       "      <th>2010-02-28</th>\n",
       "      <td>1.157539</td>\n",
       "      <td>0.109467</td>\n",
       "      <td>4.836624</td>\n",
       "      <td>242.002101</td>\n",
       "    </tr>\n",
       "    <tr>\n",
       "      <th>2010-03-31</th>\n",
       "      <td>1.170015</td>\n",
       "      <td>0.136368</td>\n",
       "      <td>4.920399</td>\n",
       "      <td>241.475284</td>\n",
       "    </tr>\n",
       "    <tr>\n",
       "      <th>2010-04-30</th>\n",
       "      <td>1.036334</td>\n",
       "      <td>0.129557</td>\n",
       "      <td>4.363496</td>\n",
       "      <td>241.442527</td>\n",
       "    </tr>\n",
       "    <tr>\n",
       "      <th>2010-05-31</th>\n",
       "      <td>1.075957</td>\n",
       "      <td>0.127221</td>\n",
       "      <td>4.551504</td>\n",
       "      <td>241.296151</td>\n",
       "    </tr>\n",
       "    <tr>\n",
       "      <th>2010-06-30</th>\n",
       "      <td>0.975306</td>\n",
       "      <td>0.145525</td>\n",
       "      <td>4.170282</td>\n",
       "      <td>240.888985</td>\n",
       "    </tr>\n",
       "    <tr>\n",
       "      <th>2010-07-31</th>\n",
       "      <td>0.778947</td>\n",
       "      <td>0.138093</td>\n",
       "      <td>3.337202</td>\n",
       "      <td>240.965167</td>\n",
       "    </tr>\n",
       "    <tr>\n",
       "      <th>2010-08-31</th>\n",
       "      <td>0.929452</td>\n",
       "      <td>0.130815</td>\n",
       "      <td>3.954423</td>\n",
       "      <td>241.422944</td>\n",
       "    </tr>\n",
       "    <tr>\n",
       "      <th>2010-09-30</th>\n",
       "      <td>0.997541</td>\n",
       "      <td>0.127700</td>\n",
       "      <td>4.223837</td>\n",
       "      <td>241.267517</td>\n",
       "    </tr>\n",
       "    <tr>\n",
       "      <th>2010-10-31</th>\n",
       "      <td>1.127749</td>\n",
       "      <td>0.134547</td>\n",
       "      <td>4.732904</td>\n",
       "      <td>242.515451</td>\n",
       "    </tr>\n",
       "    <tr>\n",
       "      <th>2010-11-30</th>\n",
       "      <td>1.106450</td>\n",
       "      <td>0.115390</td>\n",
       "      <td>4.679594</td>\n",
       "      <td>241.024739</td>\n",
       "    </tr>\n",
       "    <tr>\n",
       "      <th>2010-12-31</th>\n",
       "      <td>1.107559</td>\n",
       "      <td>0.129499</td>\n",
       "      <td>4.673267</td>\n",
       "      <td>241.420479</td>\n",
       "    </tr>\n",
       "  </tbody>\n",
       "</table>\n",
       "</div>"
      ],
      "text/plain": [
       "            Global_active_power  Global_reactive_power  Global_intensity  \\\n",
       "Datetime                                                                   \n",
       "2010-01-31             1.300640               0.125182          5.430332   \n",
       "2010-02-28             1.157539               0.109467          4.836624   \n",
       "2010-03-31             1.170015               0.136368          4.920399   \n",
       "2010-04-30             1.036334               0.129557          4.363496   \n",
       "2010-05-31             1.075957               0.127221          4.551504   \n",
       "2010-06-30             0.975306               0.145525          4.170282   \n",
       "2010-07-31             0.778947               0.138093          3.337202   \n",
       "2010-08-31             0.929452               0.130815          3.954423   \n",
       "2010-09-30             0.997541               0.127700          4.223837   \n",
       "2010-10-31             1.127749               0.134547          4.732904   \n",
       "2010-11-30             1.106450               0.115390          4.679594   \n",
       "2010-12-31             1.107559               0.129499          4.673267   \n",
       "\n",
       "               Voltage  \n",
       "Datetime                \n",
       "2010-01-31  242.338522  \n",
       "2010-02-28  242.002101  \n",
       "2010-03-31  241.475284  \n",
       "2010-04-30  241.442527  \n",
       "2010-05-31  241.296151  \n",
       "2010-06-30  240.888985  \n",
       "2010-07-31  240.965167  \n",
       "2010-08-31  241.422944  \n",
       "2010-09-30  241.267517  \n",
       "2010-10-31  242.515451  \n",
       "2010-11-30  241.024739  \n",
       "2010-12-31  241.420479  "
      ]
     },
     "execution_count": 75,
     "metadata": {},
     "output_type": "execute_result"
    }
   ],
   "source": [
    "# type(data_diario.loc[:, \"Global_active_power\"]) != np.float64\n",
    "# x\n",
    "# type(data_diario[\"Global_active_power\"][0])\n",
    "# data_diario[data_diario.loc[:, \"Global_active_power\"].type != str]\n",
    "data_mensual"
   ]
  }
 ],
 "metadata": {
  "kernelspec": {
   "display_name": "Python 3 (ipykernel)",
   "language": "python",
   "name": "python3"
  },
  "language_info": {
   "codemirror_mode": {
    "name": "ipython",
    "version": 3
   },
   "file_extension": ".py",
   "mimetype": "text/x-python",
   "name": "python",
   "nbconvert_exporter": "python",
   "pygments_lexer": "ipython3",
   "version": "3.8.11"
  }
 },
 "nbformat": 4,
 "nbformat_minor": 5
}
