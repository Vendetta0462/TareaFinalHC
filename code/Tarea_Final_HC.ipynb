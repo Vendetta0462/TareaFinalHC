{
 "cells": [
  {
   "cell_type": "markdown",
   "id": "ee697510-6ca4-444c-9dac-a01125c8f067",
   "metadata": {
    "tags": []
   },
   "source": [
    "# Tarea Final Herramientas Computacionales\n",
    "---\n",
    "***Nicolas Mantilla - 2210707***  \n",
    "***Sofía Cárdenas - 2201381***  \n",
    "***Sharith Pinzón - 2210709***"
   ]
  },
  {
   "cell_type": "code",
   "execution_count": 5,
   "id": "967f2115-541b-46b5-8b63-ac1c2e07a17e",
   "metadata": {},
   "outputs": [],
   "source": [
    "#Importamos las librerías necesiarias\n",
    "import pandas as pd\n",
    "import numpy as np\n",
    "import matplotlib.pyplot as plt"
   ]
  },
  {
   "cell_type": "markdown",
   "id": "0b3766c4-57c0-45fb-854c-6c8dd7b10674",
   "metadata": {},
   "source": [
    "## 1. Lectura de archivos"
   ]
  },
  {
   "cell_type": "code",
   "execution_count": 8,
   "id": "6a302bc2-d3b1-4101-a8a3-532e77573ecb",
   "metadata": {},
   "outputs": [],
   "source": [
    "data_active = pd.read_csv(\"../data/Global_active_power.csv\",delimiter=\",\",header=0)\n",
    "data_intensity = pd.read_csv(\"../data/Global_intensity.csv\",delimiter=\",\",header=0)\n",
    "data_reactive = pd.read_csv(\"../data/Global_reactive_power.csv\",delimiter=\",\",header=0)\n",
    "data_voltage = pd.read_csv(\"../data/Voltage.csv\",delimiter=\",\",header=0)"
   ]
  },
  {
   "cell_type": "markdown",
   "id": "c8d3c0ed-6879-4329-a329-e188f8155132",
   "metadata": {},
   "source": [
    "## 2. Fusión de los cuatro archivos en uno solo"
   ]
  },
  {
   "cell_type": "code",
   "execution_count": 49,
   "id": "c86536e4-f19c-42b9-a0b8-196dc3f6a6eb",
   "metadata": {},
   "outputs": [
    {
     "data": {
      "text/html": [
       "<div>\n",
       "<style scoped>\n",
       "    .dataframe tbody tr th:only-of-type {\n",
       "        vertical-align: middle;\n",
       "    }\n",
       "\n",
       "    .dataframe tbody tr th {\n",
       "        vertical-align: top;\n",
       "    }\n",
       "\n",
       "    .dataframe thead th {\n",
       "        text-align: right;\n",
       "    }\n",
       "</style>\n",
       "<table border=\"1\" class=\"dataframe\">\n",
       "  <thead>\n",
       "    <tr style=\"text-align: right;\">\n",
       "      <th></th>\n",
       "      <th>Global_active_power</th>\n",
       "      <th>Global_reactive_power</th>\n",
       "      <th>Global_intensity</th>\n",
       "      <th>Voltage</th>\n",
       "    </tr>\n",
       "    <tr>\n",
       "      <th>Datetime</th>\n",
       "      <th></th>\n",
       "      <th></th>\n",
       "      <th></th>\n",
       "      <th></th>\n",
       "    </tr>\n",
       "  </thead>\n",
       "  <tbody>\n",
       "    <tr>\n",
       "      <th>2010-01-01 00:00:00</th>\n",
       "      <td>1.790</td>\n",
       "      <td>0.236</td>\n",
       "      <td>7.4</td>\n",
       "      <td>240.65</td>\n",
       "    </tr>\n",
       "    <tr>\n",
       "      <th>2010-01-01 00:01:00</th>\n",
       "      <td>1.780</td>\n",
       "      <td>0.234</td>\n",
       "      <td>7.4</td>\n",
       "      <td>240.07</td>\n",
       "    </tr>\n",
       "    <tr>\n",
       "      <th>2010-01-01 00:02:00</th>\n",
       "      <td>1.780</td>\n",
       "      <td>0.234</td>\n",
       "      <td>7.4</td>\n",
       "      <td>240.15</td>\n",
       "    </tr>\n",
       "    <tr>\n",
       "      <th>2010-01-01 00:03:00</th>\n",
       "      <td>1.746</td>\n",
       "      <td>0.186</td>\n",
       "      <td>7.2</td>\n",
       "      <td>240.26</td>\n",
       "    </tr>\n",
       "    <tr>\n",
       "      <th>2010-01-01 00:04:00</th>\n",
       "      <td>1.686</td>\n",
       "      <td>0.102</td>\n",
       "      <td>7.0</td>\n",
       "      <td>240.12</td>\n",
       "    </tr>\n",
       "    <tr>\n",
       "      <th>...</th>\n",
       "      <td>...</td>\n",
       "      <td>...</td>\n",
       "      <td>...</td>\n",
       "      <td>...</td>\n",
       "    </tr>\n",
       "    <tr>\n",
       "      <th>2010-11-26 20:58:00</th>\n",
       "      <td>0.946</td>\n",
       "      <td>0.000</td>\n",
       "      <td>4.0</td>\n",
       "      <td>240.43</td>\n",
       "    </tr>\n",
       "    <tr>\n",
       "      <th>2010-11-26 20:59:00</th>\n",
       "      <td>0.944</td>\n",
       "      <td>0.000</td>\n",
       "      <td>4.0</td>\n",
       "      <td>240.00</td>\n",
       "    </tr>\n",
       "    <tr>\n",
       "      <th>2010-11-26 21:00:00</th>\n",
       "      <td>0.938</td>\n",
       "      <td>0.000</td>\n",
       "      <td>3.8</td>\n",
       "      <td>239.82</td>\n",
       "    </tr>\n",
       "    <tr>\n",
       "      <th>2010-11-26 21:01:00</th>\n",
       "      <td>0.934</td>\n",
       "      <td>0.000</td>\n",
       "      <td>3.8</td>\n",
       "      <td>239.70</td>\n",
       "    </tr>\n",
       "    <tr>\n",
       "      <th>2010-11-26 21:02:00</th>\n",
       "      <td>0.932</td>\n",
       "      <td>0.000</td>\n",
       "      <td>3.8</td>\n",
       "      <td>239.55</td>\n",
       "    </tr>\n",
       "  </tbody>\n",
       "</table>\n",
       "<p>457395 rows × 4 columns</p>\n",
       "</div>"
      ],
      "text/plain": [
       "                     Global_active_power  Global_reactive_power  \\\n",
       "Datetime                                                          \n",
       "2010-01-01 00:00:00                1.790                  0.236   \n",
       "2010-01-01 00:01:00                1.780                  0.234   \n",
       "2010-01-01 00:02:00                1.780                  0.234   \n",
       "2010-01-01 00:03:00                1.746                  0.186   \n",
       "2010-01-01 00:04:00                1.686                  0.102   \n",
       "...                                  ...                    ...   \n",
       "2010-11-26 20:58:00                0.946                  0.000   \n",
       "2010-11-26 20:59:00                0.944                  0.000   \n",
       "2010-11-26 21:00:00                0.938                  0.000   \n",
       "2010-11-26 21:01:00                0.934                  0.000   \n",
       "2010-11-26 21:02:00                0.932                  0.000   \n",
       "\n",
       "                     Global_intensity  Voltage  \n",
       "Datetime                                        \n",
       "2010-01-01 00:00:00               7.4   240.65  \n",
       "2010-01-01 00:01:00               7.4   240.07  \n",
       "2010-01-01 00:02:00               7.4   240.15  \n",
       "2010-01-01 00:03:00               7.2   240.26  \n",
       "2010-01-01 00:04:00               7.0   240.12  \n",
       "...                               ...      ...  \n",
       "2010-11-26 20:58:00               4.0   240.43  \n",
       "2010-11-26 20:59:00               4.0   240.00  \n",
       "2010-11-26 21:00:00               3.8   239.82  \n",
       "2010-11-26 21:01:00               3.8   239.70  \n",
       "2010-11-26 21:02:00               3.8   239.55  \n",
       "\n",
       "[457395 rows x 4 columns]"
      ]
     },
     "execution_count": 49,
     "metadata": {},
     "output_type": "execute_result"
    }
   ],
   "source": [
    "data = pd.merge(pd.merge(data_active, data_reactive, on=[\"Datetime\"]),\n",
    "                pd.merge(data_intensity, data_voltage, on=[\"Datetime\"]),\n",
    "                on=[\"Datetime\"])\n",
    "data[\"Datetime\"] = pd.to_datetime(data[\"Datetime\"], dayfirst=True)\n",
    "data = data.set_index([\"Datetime\"])\n",
    "data"
   ]
  },
  {
   "cell_type": "markdown",
   "id": "3f8ded38-c870-4eb5-aaae-a7ab5b4f27cb",
   "metadata": {},
   "source": [
    "## 3. *Resample* de los datos"
   ]
  },
  {
   "cell_type": "code",
   "execution_count": 53,
   "id": "a10a1832-623f-455d-994b-318e86899266",
   "metadata": {},
   "outputs": [],
   "source": [
    "data_diario = data.resample(\"D\").mean()\n",
    "data_mensual = data.resample(\"M\").mean()"
   ]
  },
  {
   "cell_type": "markdown",
   "id": "af1ac4b3-7e3a-4884-82c6-ceba27819a85",
   "metadata": {},
   "source": [
    "## 4. Regresiones lineales"
   ]
  },
  {
   "cell_type": "code",
   "execution_count": 100,
   "id": "353d9747-40eb-43f5-a784-7d45eb11aceb",
   "metadata": {},
   "outputs": [],
   "source": [
    "from scipy.optimize import curve_fit as cf\n",
    "\n",
    "def rel1(x, a, b):\n",
    "    return a*x+b\n",
    "\n",
    "def rel3(x, a, b, c):\n",
    "    return a*x[0]+b*x[1]+c\n",
    "\n",
    "def fit(func, dataset):\n",
    "    xdata = (dataset[\"Global_intensity\"], dataset[\"Voltage\"])\n",
    "    ydata = dataset[\"Global_active_power\"]\n",
    "    label = (\"Global active power\", \"Global intensity\", \"Voltage\")\n",
    "    for i in [1,2]:\n",
    "        opt, cov = cf(func, xdata[i-1], ydata)\n",
    "        cov = np.around(np.sqrt(np.diag(cov)), 3)\n",
    "        x = np.linspace(xdata[i-1].min(), xdata[i-1].max(), 100)\n",
    "        E = np.sqrt(np.mean((ydata-func(xdata[i-1], *opt))**2))\n",
    "        plt.figure(figsize=(8,6))\n",
    "        plt.plot(x, func(x, *opt), 'r-', label=r'fit: {}$\\pm${}'.format(np.around(tuple(opt), 3),tuple(cov)))\n",
    "        plt.scatter(xdata[i-1], ydata, label=\"Original data\")\n",
    "        plt.xlabel(label[0])\n",
    "        plt.ylabel(label[i])\n",
    "        plt.legend()\n",
    "        plt.show()\n",
    "        print(\"Los coeficientes son : {}\".format(opt))\n",
    "        print(\"El sigma de los coeficientes son : {}\".format(cov))\n",
    "        print(\"Error on fit is = {}\".format(E))\n",
    "    return\n",
    "\n",
    "# def fit(func,xdata,ydata,labelx,labely):\n",
    "#     popt, pcov = curve_fit(func, xdata, ydata)\n",
    "#     pcov = np.sqrt(np.diag(pcov))\n",
    "#     plt.figure(figsize=(8,6))\n",
    "#     plt.plot(xdata, func(xdata, *popt), 'r-',label=r'fit: {}$\\pm${}'.format(tuple(popt),tuple(pcov)))\n",
    "#     plt.scatter(xdata,ydata,label=\"Original data\")\n",
    "#     plt.xlabel(labelx)\n",
    "#     plt.ylabel(labely)\n",
    "#     plt.legend()\n",
    "#     plt.show()\n",
    "#     print(\"Los coeficientes son : {}\".format(popt))\n",
    "#     print(\"El sigma de los coeficientes son : {}\".format(pcov))\n",
    "#     return\n",
    "\n",
    "# opt1, cov1 = cf(rel1, data[\"Global_intensity\"], data[\"Global_active_power\"])\n",
    "# opt2, cov2 = cf(rel1, data[\"Voltage\"], data[\"Global_active_power\"])\n",
    "# opt3, cov3 = cf(rel3, [data[\"Global_intensity\"], data[\"Voltage\"]], data[\"Global_active_power\"])"
   ]
  },
  {
   "cell_type": "code",
   "execution_count": 101,
   "id": "470bd087-baef-4154-abb3-56c65c75e2a6",
   "metadata": {},
   "outputs": [
    {
     "data": {
      "image/png": "[encoded data removed]",
      "text/plain": [
       "<Figure size 576x432 with 1 Axes>"
      ]
     },
     "metadata": {
      "needs_background": "light"
     },
     "output_type": "display_data"
    },
    {
     "name": "stdout",
     "output_type": "stream",
     "text": [
      "Los coeficientes son : [ 0.2380262  -0.00498205]\n",
      "El sigma de los coeficientes son : [0. 0.]\n",
      "Error on fit is = 0.04925499323758528\n"
     ]
    },
    {
     "data": {
      "image/png": "[encoded data removed]",
      "text/plain": [
       "<Figure size 576x432 with 1 Axes>"
      ]
     },
     "metadata": {
      "needs_background": "light"
     },
     "output_type": "display_data"
    },
    {
     "name": "stdout",
     "output_type": "stream",
     "text": [
      "Los coeficientes son : [-0.13586092 33.87352423]\n",
      "El sigma de los coeficientes son : [0.    0.106]\n",
      "Error on fit is = 0.8487935137294275\n"
     ]
    }
   ],
   "source": [
    "fit(rel1, data)"
   ]
  }
 ],
 "metadata": {
  "kernelspec": {
   "display_name": "Python 3 (ipykernel)",
   "language": "python",
   "name": "python3"
  },
  "language_info": {
   "codemirror_mode": {
    "name": "ipython",
    "version": 3
   },
   "file_extension": ".py",
   "mimetype": "text/x-python",
   "name": "python",
   "nbconvert_exporter": "python",
   "pygments_lexer": "ipython3",
   "version": "3.8.11"
  }
 },
 "nbformat": 4,
 "nbformat_minor": 5
}
